{
 "cells": [
  {
   "cell_type": "code",
   "execution_count": 1,
   "id": "c43a96f5",
   "metadata": {},
   "outputs": [],
   "source": [
    "import pandas as pd\n",
    "import numpy as np\n",
    "import matplotlib.pyplot as plt\n",
    "import seaborn as sns\n",
    "import warnings\n",
    "from sklearn import metrics\n",
    "from sklearn.linear_model import LinearRegression\n",
    "from sklearn.metrics import classification_report,confusion_matrix,accuracy_score,f1_score\n",
    "warnings.filterwarnings('ignore')\n"
   ]
  },
  {
   "cell_type": "markdown",
   "id": "90b27eda",
   "metadata": {},
   "source": [
    "Part 1 Predicting Professor Salary\n",
    "Load the dataset\n",
    "Perform EDA on this dataset\n",
    "Remove outliers\n",
    "Separate numerical features from categorical features\n",
    "Build a two-factors model to predict the Salary with both YrsSincePhd and YrsOfService as its correlation is higher\n",
    "Check if the model pass cross validation\n",
    "Use one-hot encoding to include the Rank, Sex and Discipline along with the above numerical variable to build a second model.\n",
    "Comment on whether the model improve or not after adding the categorical variables in terms of model performance as well as validation"
   ]
  },
  {
   "cell_type": "code",
   "execution_count": 2,
   "id": "d9a35b1b",
   "metadata": {},
   "outputs": [
    {
     "data": {
      "text/html": [
       "<div>\n",
       "<style scoped>\n",
       "    .dataframe tbody tr th:only-of-type {\n",
       "        vertical-align: middle;\n",
       "    }\n",
       "\n",
       "    .dataframe tbody tr th {\n",
       "        vertical-align: top;\n",
       "    }\n",
       "\n",
       "    .dataframe thead th {\n",
       "        text-align: right;\n",
       "    }\n",
       "</style>\n",
       "<table border=\"1\" class=\"dataframe\">\n",
       "  <thead>\n",
       "    <tr style=\"text-align: right;\">\n",
       "      <th></th>\n",
       "      <th>the_geom</th>\n",
       "      <th>the_geom_webmercator</th>\n",
       "      <th>assessment_date</th>\n",
       "      <th>basements</th>\n",
       "      <th>beginning_point</th>\n",
       "      <th>book_and_page</th>\n",
       "      <th>building_code</th>\n",
       "      <th>building_code_description</th>\n",
       "      <th>category_code</th>\n",
       "      <th>category_code_description</th>\n",
       "      <th>...</th>\n",
       "      <th>year_built</th>\n",
       "      <th>year_built_estimate</th>\n",
       "      <th>zip_code</th>\n",
       "      <th>zoning</th>\n",
       "      <th>pin</th>\n",
       "      <th>building_code_new</th>\n",
       "      <th>building_code_description_new</th>\n",
       "      <th>objectid</th>\n",
       "      <th>lat</th>\n",
       "      <th>lng</th>\n",
       "    </tr>\n",
       "  </thead>\n",
       "  <tbody>\n",
       "    <tr>\n",
       "      <th>0</th>\n",
       "      <td>0101000020E6100000288FB7AD4BC452C0C6E4F1E75A01...</td>\n",
       "      <td>0101000020110F00002693FA5D94E05FC1EE7D5D356691...</td>\n",
       "      <td>2022-05-24</td>\n",
       "      <td>NaN</td>\n",
       "      <td>120' NW EADOM ST</td>\n",
       "      <td>987458.0</td>\n",
       "      <td>RB</td>\n",
       "      <td>NON PD PKG LOT COMMERCIAL</td>\n",
       "      <td>6</td>\n",
       "      <td>VACANT LAND</td>\n",
       "      <td>...</td>\n",
       "      <td>NaN</td>\n",
       "      <td>NaN</td>\n",
       "      <td>19137.0</td>\n",
       "      <td>IRMX</td>\n",
       "      <td>1001189957</td>\n",
       "      <td>NaN</td>\n",
       "      <td>NaN</td>\n",
       "      <td>433143301</td>\n",
       "      <td>40.010587</td>\n",
       "      <td>-75.067119</td>\n",
       "    </tr>\n",
       "    <tr>\n",
       "      <th>1</th>\n",
       "      <td>0101000020E610000015F6916732CB52C0D4B37C0242FE...</td>\n",
       "      <td>0101000020110F0000F30438544DEC5FC1AAE24928F78D...</td>\n",
       "      <td>2022-05-24</td>\n",
       "      <td>NaN</td>\n",
       "      <td>273' N OF NORRIS ST</td>\n",
       "      <td>NaN</td>\n",
       "      <td>SR</td>\n",
       "      <td>VACANT LAND RESIDE &lt; ACRE</td>\n",
       "      <td>6</td>\n",
       "      <td>VACANT LAND</td>\n",
       "      <td>...</td>\n",
       "      <td>NaN</td>\n",
       "      <td>NaN</td>\n",
       "      <td>19121.0</td>\n",
       "      <td>RSA5</td>\n",
       "      <td>1001505175</td>\n",
       "      <td>NaN</td>\n",
       "      <td>NaN</td>\n",
       "      <td>433143302</td>\n",
       "      <td>39.986389</td>\n",
       "      <td>-75.174951</td>\n",
       "    </tr>\n",
       "    <tr>\n",
       "      <th>2</th>\n",
       "      <td>0101000020E610000066AC299B48CA52C053CA1DF46CFD...</td>\n",
       "      <td>0101000020110F00004ACDE132C0EA5FC17F6F06010B8D...</td>\n",
       "      <td>2022-05-24</td>\n",
       "      <td>NaN</td>\n",
       "      <td>263' 8\" N COLUMBIA AVE</td>\n",
       "      <td>NaN</td>\n",
       "      <td>U50</td>\n",
       "      <td>ROW CONV/APT 3 STY MASON</td>\n",
       "      <td>2</td>\n",
       "      <td>MULTI FAMILY</td>\n",
       "      <td>...</td>\n",
       "      <td>1890.0</td>\n",
       "      <td>NaN</td>\n",
       "      <td>19121.0</td>\n",
       "      <td>RM1</td>\n",
       "      <td>1001622123</td>\n",
       "      <td>22</td>\n",
       "      <td>ROW TYPICAL</td>\n",
       "      <td>433143303</td>\n",
       "      <td>39.979887</td>\n",
       "      <td>-75.160682</td>\n",
       "    </tr>\n",
       "    <tr>\n",
       "      <th>3</th>\n",
       "      <td>0101000020E6100000000000000000F87F000000000000...</td>\n",
       "      <td>NaN</td>\n",
       "      <td>2022-05-24</td>\n",
       "      <td>NaN</td>\n",
       "      <td>1,115.962' S PATTISON AVE</td>\n",
       "      <td>NaN</td>\n",
       "      <td>SS</td>\n",
       "      <td>VACANT LAND RESIDE ACRE+</td>\n",
       "      <td>6</td>\n",
       "      <td>VACANT LAND</td>\n",
       "      <td>...</td>\n",
       "      <td>NaN</td>\n",
       "      <td>NaN</td>\n",
       "      <td>NaN</td>\n",
       "      <td>NaN</td>\n",
       "      <td>1001319180</td>\n",
       "      <td>NaN</td>\n",
       "      <td>NaN</td>\n",
       "      <td>433143304</td>\n",
       "      <td>NaN</td>\n",
       "      <td>NaN</td>\n",
       "    </tr>\n",
       "    <tr>\n",
       "      <th>4</th>\n",
       "      <td>0101000020E61000000C5CFE385BC452C0E38B05E75601...</td>\n",
       "      <td>0101000020110F0000F7332EC5AEE05FC1240EE0C46191...</td>\n",
       "      <td>2022-05-24</td>\n",
       "      <td>NaN</td>\n",
       "      <td>NEC SCATTERGOOD TO</td>\n",
       "      <td>NaN</td>\n",
       "      <td>RB</td>\n",
       "      <td>NON PD PKG LOT COMMERCIAL</td>\n",
       "      <td>6</td>\n",
       "      <td>VACANT LAND</td>\n",
       "      <td>...</td>\n",
       "      <td>NaN</td>\n",
       "      <td>NaN</td>\n",
       "      <td>19137.0</td>\n",
       "      <td>IRMX</td>\n",
       "      <td>1001189938</td>\n",
       "      <td>NaN</td>\n",
       "      <td>NaN</td>\n",
       "      <td>433143305</td>\n",
       "      <td>40.010465</td>\n",
       "      <td>-75.068068</td>\n",
       "    </tr>\n",
       "  </tbody>\n",
       "</table>\n",
       "<p>5 rows × 82 columns</p>\n",
       "</div>"
      ],
      "text/plain": [
       "                                            the_geom  \\\n",
       "0  0101000020E6100000288FB7AD4BC452C0C6E4F1E75A01...   \n",
       "1  0101000020E610000015F6916732CB52C0D4B37C0242FE...   \n",
       "2  0101000020E610000066AC299B48CA52C053CA1DF46CFD...   \n",
       "3  0101000020E6100000000000000000F87F000000000000...   \n",
       "4  0101000020E61000000C5CFE385BC452C0E38B05E75601...   \n",
       "\n",
       "                                the_geom_webmercator assessment_date  \\\n",
       "0  0101000020110F00002693FA5D94E05FC1EE7D5D356691...      2022-05-24   \n",
       "1  0101000020110F0000F30438544DEC5FC1AAE24928F78D...      2022-05-24   \n",
       "2  0101000020110F00004ACDE132C0EA5FC17F6F06010B8D...      2022-05-24   \n",
       "3                                                NaN      2022-05-24   \n",
       "4  0101000020110F0000F7332EC5AEE05FC1240EE0C46191...      2022-05-24   \n",
       "\n",
       "  basements            beginning_point book_and_page building_code  \\\n",
       "0       NaN           120' NW EADOM ST      987458.0         RB      \n",
       "1       NaN        273' N OF NORRIS ST           NaN         SR      \n",
       "2       NaN     263' 8\" N COLUMBIA AVE           NaN         U50     \n",
       "3       NaN  1,115.962' S PATTISON AVE           NaN         SS      \n",
       "4       NaN         NEC SCATTERGOOD TO           NaN         RB      \n",
       "\n",
       "   building_code_description  category_code category_code_description  ...  \\\n",
       "0  NON PD PKG LOT COMMERCIAL              6               VACANT LAND  ...   \n",
       "1  VACANT LAND RESIDE < ACRE              6               VACANT LAND  ...   \n",
       "2   ROW CONV/APT 3 STY MASON              2              MULTI FAMILY  ...   \n",
       "3   VACANT LAND RESIDE ACRE+              6               VACANT LAND  ...   \n",
       "4  NON PD PKG LOT COMMERCIAL              6               VACANT LAND  ...   \n",
       "\n",
       "   year_built year_built_estimate  zip_code zoning         pin  \\\n",
       "0         NaN                 NaN   19137.0   IRMX  1001189957   \n",
       "1         NaN                 NaN   19121.0   RSA5  1001505175   \n",
       "2      1890.0                 NaN   19121.0    RM1  1001622123   \n",
       "3         NaN                 NaN       NaN    NaN  1001319180   \n",
       "4         NaN                 NaN   19137.0   IRMX  1001189938   \n",
       "\n",
       "   building_code_new  building_code_description_new   objectid        lat  \\\n",
       "0                NaN                            NaN  433143301  40.010587   \n",
       "1                NaN                            NaN  433143302  39.986389   \n",
       "2                 22                    ROW TYPICAL  433143303  39.979887   \n",
       "3                NaN                            NaN  433143304        NaN   \n",
       "4                NaN                            NaN  433143305  40.010465   \n",
       "\n",
       "         lng  \n",
       "0 -75.067119  \n",
       "1 -75.174951  \n",
       "2 -75.160682  \n",
       "3        NaN  \n",
       "4 -75.068068  \n",
       "\n",
       "[5 rows x 82 columns]"
      ]
     },
     "execution_count": 2,
     "metadata": {},
     "output_type": "execute_result"
    }
   ],
   "source": [
    "housing = pd.read_csv(\"opa_properties_public.csv\")\n",
    "housing.head()"
   ]
  },
  {
   "cell_type": "code",
   "execution_count": 3,
   "id": "7cfef509",
   "metadata": {},
   "outputs": [
    {
     "data": {
      "text/html": [
       "<div>\n",
       "<style scoped>\n",
       "    .dataframe tbody tr th:only-of-type {\n",
       "        vertical-align: middle;\n",
       "    }\n",
       "\n",
       "    .dataframe tbody tr th {\n",
       "        vertical-align: top;\n",
       "    }\n",
       "\n",
       "    .dataframe thead th {\n",
       "        text-align: right;\n",
       "    }\n",
       "</style>\n",
       "<table border=\"1\" class=\"dataframe\">\n",
       "  <thead>\n",
       "    <tr style=\"text-align: right;\">\n",
       "      <th></th>\n",
       "      <th>category_code</th>\n",
       "      <th>census_tract</th>\n",
       "      <th>cross_reference</th>\n",
       "      <th>depth</th>\n",
       "      <th>exempt_building</th>\n",
       "      <th>exempt_land</th>\n",
       "      <th>exterior_condition</th>\n",
       "      <th>fireplaces</th>\n",
       "      <th>frontage</th>\n",
       "      <th>garage_spaces</th>\n",
       "      <th>...</th>\n",
       "      <th>taxable_building</th>\n",
       "      <th>taxable_land</th>\n",
       "      <th>total_area</th>\n",
       "      <th>total_livable_area</th>\n",
       "      <th>year_built</th>\n",
       "      <th>zip_code</th>\n",
       "      <th>pin</th>\n",
       "      <th>objectid</th>\n",
       "      <th>lat</th>\n",
       "      <th>lng</th>\n",
       "    </tr>\n",
       "  </thead>\n",
       "  <tbody>\n",
       "    <tr>\n",
       "      <th>count</th>\n",
       "      <td>582937.000000</td>\n",
       "      <td>582798.000000</td>\n",
       "      <td>1.375000e+03</td>\n",
       "      <td>578891.000000</td>\n",
       "      <td>5.829170e+05</td>\n",
       "      <td>5.829170e+05</td>\n",
       "      <td>502836.000000</td>\n",
       "      <td>499369.000000</td>\n",
       "      <td>578883.000000</td>\n",
       "      <td>498132.000000</td>\n",
       "      <td>...</td>\n",
       "      <td>5.829160e+05</td>\n",
       "      <td>5.829170e+05</td>\n",
       "      <td>5.806270e+05</td>\n",
       "      <td>5.409260e+05</td>\n",
       "      <td>540926.000000</td>\n",
       "      <td>582801.000000</td>\n",
       "      <td>5.829370e+05</td>\n",
       "      <td>5.829370e+05</td>\n",
       "      <td>582802.000000</td>\n",
       "      <td>582802.000000</td>\n",
       "    </tr>\n",
       "    <tr>\n",
       "      <th>mean</th>\n",
       "      <td>1.678964</td>\n",
       "      <td>195.096740</td>\n",
       "      <td>6.339003e+08</td>\n",
       "      <td>83.291024</td>\n",
       "      <td>1.023420e+05</td>\n",
       "      <td>1.891565e+04</td>\n",
       "      <td>3.838013</td>\n",
       "      <td>0.039410</td>\n",
       "      <td>26.683130</td>\n",
       "      <td>0.391001</td>\n",
       "      <td>...</td>\n",
       "      <td>1.706888e+05</td>\n",
       "      <td>6.509278e+04</td>\n",
       "      <td>5.077649e+03</td>\n",
       "      <td>2.599657e+03</td>\n",
       "      <td>1929.101886</td>\n",
       "      <td>19133.373304</td>\n",
       "      <td>1.001363e+09</td>\n",
       "      <td>4.334347e+08</td>\n",
       "      <td>39.999770</td>\n",
       "      <td>-75.143490</td>\n",
       "    </tr>\n",
       "    <tr>\n",
       "      <th>std</th>\n",
       "      <td>1.741160</td>\n",
       "      <td>118.860818</td>\n",
       "      <td>2.956609e+08</td>\n",
       "      <td>246.601493</td>\n",
       "      <td>1.946963e+06</td>\n",
       "      <td>8.233688e+05</td>\n",
       "      <td>0.781584</td>\n",
       "      <td>0.260789</td>\n",
       "      <td>452.500174</td>\n",
       "      <td>0.690891</td>\n",
       "      <td>...</td>\n",
       "      <td>1.627579e+06</td>\n",
       "      <td>5.001713e+05</td>\n",
       "      <td>2.968080e+05</td>\n",
       "      <td>2.811115e+04</td>\n",
       "      <td>131.160842</td>\n",
       "      <td>183.236182</td>\n",
       "      <td>1.820191e+05</td>\n",
       "      <td>1.682796e+05</td>\n",
       "      <td>0.050866</td>\n",
       "      <td>0.065874</td>\n",
       "    </tr>\n",
       "    <tr>\n",
       "      <th>min</th>\n",
       "      <td>1.000000</td>\n",
       "      <td>1.000000</td>\n",
       "      <td>1.106700e+07</td>\n",
       "      <td>0.000000</td>\n",
       "      <td>0.000000e+00</td>\n",
       "      <td>0.000000e+00</td>\n",
       "      <td>0.000000</td>\n",
       "      <td>0.000000</td>\n",
       "      <td>0.000000</td>\n",
       "      <td>0.000000</td>\n",
       "      <td>...</td>\n",
       "      <td>0.000000e+00</td>\n",
       "      <td>0.000000e+00</td>\n",
       "      <td>0.000000e+00</td>\n",
       "      <td>0.000000e+00</td>\n",
       "      <td>0.000000</td>\n",
       "      <td>19102.000000</td>\n",
       "      <td>1.001049e+09</td>\n",
       "      <td>4.331433e+08</td>\n",
       "      <td>39.875128</td>\n",
       "      <td>-75.274390</td>\n",
       "    </tr>\n",
       "    <tr>\n",
       "      <th>25%</th>\n",
       "      <td>1.000000</td>\n",
       "      <td>93.000000</td>\n",
       "      <td>3.713559e+08</td>\n",
       "      <td>58.000000</td>\n",
       "      <td>0.000000e+00</td>\n",
       "      <td>0.000000e+00</td>\n",
       "      <td>4.000000</td>\n",
       "      <td>0.000000</td>\n",
       "      <td>15.000000</td>\n",
       "      <td>0.000000</td>\n",
       "      <td>...</td>\n",
       "      <td>3.088000e+04</td>\n",
       "      <td>2.038000e+04</td>\n",
       "      <td>8.850000e+02</td>\n",
       "      <td>1.080000e+03</td>\n",
       "      <td>1920.000000</td>\n",
       "      <td>19123.000000</td>\n",
       "      <td>1.001205e+09</td>\n",
       "      <td>4.332890e+08</td>\n",
       "      <td>39.957570</td>\n",
       "      <td>-75.182693</td>\n",
       "    </tr>\n",
       "    <tr>\n",
       "      <th>50%</th>\n",
       "      <td>1.000000</td>\n",
       "      <td>184.000000</td>\n",
       "      <td>7.824274e+08</td>\n",
       "      <td>77.000000</td>\n",
       "      <td>0.000000e+00</td>\n",
       "      <td>0.000000e+00</td>\n",
       "      <td>4.000000</td>\n",
       "      <td>0.000000</td>\n",
       "      <td>16.000000</td>\n",
       "      <td>0.000000</td>\n",
       "      <td>...</td>\n",
       "      <td>9.216000e+04</td>\n",
       "      <td>3.496000e+04</td>\n",
       "      <td>1.280000e+03</td>\n",
       "      <td>1.278000e+03</td>\n",
       "      <td>1925.000000</td>\n",
       "      <td>19134.000000</td>\n",
       "      <td>1.001363e+09</td>\n",
       "      <td>4.334347e+08</td>\n",
       "      <td>39.996442</td>\n",
       "      <td>-75.155155</td>\n",
       "    </tr>\n",
       "    <tr>\n",
       "      <th>75%</th>\n",
       "      <td>1.000000</td>\n",
       "      <td>302.000000</td>\n",
       "      <td>8.823670e+08</td>\n",
       "      <td>100.000000</td>\n",
       "      <td>8.000000e+04</td>\n",
       "      <td>0.000000e+00</td>\n",
       "      <td>4.000000</td>\n",
       "      <td>0.000000</td>\n",
       "      <td>21.000000</td>\n",
       "      <td>1.000000</td>\n",
       "      <td>...</td>\n",
       "      <td>1.638400e+05</td>\n",
       "      <td>5.300000e+04</td>\n",
       "      <td>2.061000e+03</td>\n",
       "      <td>1.650000e+03</td>\n",
       "      <td>1950.000000</td>\n",
       "      <td>19144.000000</td>\n",
       "      <td>1.001520e+09</td>\n",
       "      <td>4.335805e+08</td>\n",
       "      <td>40.039845</td>\n",
       "      <td>-75.104873</td>\n",
       "    </tr>\n",
       "    <tr>\n",
       "      <th>max</th>\n",
       "      <td>16.000000</td>\n",
       "      <td>891.000000</td>\n",
       "      <td>1.000000e+09</td>\n",
       "      <td>168423.000000</td>\n",
       "      <td>4.691553e+08</td>\n",
       "      <td>3.418426e+08</td>\n",
       "      <td>7.000000</td>\n",
       "      <td>10.000000</td>\n",
       "      <td>338387.000000</td>\n",
       "      <td>72.000000</td>\n",
       "      <td>...</td>\n",
       "      <td>3.120000e+08</td>\n",
       "      <td>7.800000e+07</td>\n",
       "      <td>2.076941e+08</td>\n",
       "      <td>1.023612e+07</td>\n",
       "      <td>2025.000000</td>\n",
       "      <td>88888.000000</td>\n",
       "      <td>1.001686e+09</td>\n",
       "      <td>4.337262e+08</td>\n",
       "      <td>40.137705</td>\n",
       "      <td>-74.958190</td>\n",
       "    </tr>\n",
       "  </tbody>\n",
       "</table>\n",
       "<p>8 rows × 34 columns</p>\n",
       "</div>"
      ],
      "text/plain": [
       "       category_code   census_tract  cross_reference          depth  \\\n",
       "count  582937.000000  582798.000000     1.375000e+03  578891.000000   \n",
       "mean        1.678964     195.096740     6.339003e+08      83.291024   \n",
       "std         1.741160     118.860818     2.956609e+08     246.601493   \n",
       "min         1.000000       1.000000     1.106700e+07       0.000000   \n",
       "25%         1.000000      93.000000     3.713559e+08      58.000000   \n",
       "50%         1.000000     184.000000     7.824274e+08      77.000000   \n",
       "75%         1.000000     302.000000     8.823670e+08     100.000000   \n",
       "max        16.000000     891.000000     1.000000e+09  168423.000000   \n",
       "\n",
       "       exempt_building   exempt_land  exterior_condition     fireplaces  \\\n",
       "count     5.829170e+05  5.829170e+05       502836.000000  499369.000000   \n",
       "mean      1.023420e+05  1.891565e+04            3.838013       0.039410   \n",
       "std       1.946963e+06  8.233688e+05            0.781584       0.260789   \n",
       "min       0.000000e+00  0.000000e+00            0.000000       0.000000   \n",
       "25%       0.000000e+00  0.000000e+00            4.000000       0.000000   \n",
       "50%       0.000000e+00  0.000000e+00            4.000000       0.000000   \n",
       "75%       8.000000e+04  0.000000e+00            4.000000       0.000000   \n",
       "max       4.691553e+08  3.418426e+08            7.000000      10.000000   \n",
       "\n",
       "            frontage  garage_spaces  ...  taxable_building  taxable_land  \\\n",
       "count  578883.000000  498132.000000  ...      5.829160e+05  5.829170e+05   \n",
       "mean       26.683130       0.391001  ...      1.706888e+05  6.509278e+04   \n",
       "std       452.500174       0.690891  ...      1.627579e+06  5.001713e+05   \n",
       "min         0.000000       0.000000  ...      0.000000e+00  0.000000e+00   \n",
       "25%        15.000000       0.000000  ...      3.088000e+04  2.038000e+04   \n",
       "50%        16.000000       0.000000  ...      9.216000e+04  3.496000e+04   \n",
       "75%        21.000000       1.000000  ...      1.638400e+05  5.300000e+04   \n",
       "max    338387.000000      72.000000  ...      3.120000e+08  7.800000e+07   \n",
       "\n",
       "         total_area  total_livable_area     year_built       zip_code  \\\n",
       "count  5.806270e+05        5.409260e+05  540926.000000  582801.000000   \n",
       "mean   5.077649e+03        2.599657e+03    1929.101886   19133.373304   \n",
       "std    2.968080e+05        2.811115e+04     131.160842     183.236182   \n",
       "min    0.000000e+00        0.000000e+00       0.000000   19102.000000   \n",
       "25%    8.850000e+02        1.080000e+03    1920.000000   19123.000000   \n",
       "50%    1.280000e+03        1.278000e+03    1925.000000   19134.000000   \n",
       "75%    2.061000e+03        1.650000e+03    1950.000000   19144.000000   \n",
       "max    2.076941e+08        1.023612e+07    2025.000000   88888.000000   \n",
       "\n",
       "                pin      objectid            lat            lng  \n",
       "count  5.829370e+05  5.829370e+05  582802.000000  582802.000000  \n",
       "mean   1.001363e+09  4.334347e+08      39.999770     -75.143490  \n",
       "std    1.820191e+05  1.682796e+05       0.050866       0.065874  \n",
       "min    1.001049e+09  4.331433e+08      39.875128     -75.274390  \n",
       "25%    1.001205e+09  4.332890e+08      39.957570     -75.182693  \n",
       "50%    1.001363e+09  4.334347e+08      39.996442     -75.155155  \n",
       "75%    1.001520e+09  4.335805e+08      40.039845     -75.104873  \n",
       "max    1.001686e+09  4.337262e+08      40.137705     -74.958190  \n",
       "\n",
       "[8 rows x 34 columns]"
      ]
     },
     "execution_count": 3,
     "metadata": {},
     "output_type": "execute_result"
    }
   ],
   "source": [
    "housing.describe()"
   ]
  },
  {
   "cell_type": "code",
   "execution_count": 4,
   "id": "894bd873",
   "metadata": {},
   "outputs": [
    {
     "data": {
      "text/plain": [
       "Index(['the_geom', 'the_geom_webmercator', 'assessment_date', 'basements',\n",
       "       'beginning_point', 'book_and_page', 'building_code',\n",
       "       'building_code_description', 'category_code',\n",
       "       'category_code_description', 'census_tract', 'central_air',\n",
       "       'cross_reference', 'date_exterior_condition', 'depth',\n",
       "       'exempt_building', 'exempt_land', 'exterior_condition', 'fireplaces',\n",
       "       'frontage', 'fuel', 'garage_spaces', 'garage_type',\n",
       "       'general_construction', 'geographic_ward', 'homestead_exemption',\n",
       "       'house_extension', 'house_number', 'interior_condition', 'location',\n",
       "       'mailing_address_1', 'mailing_address_2', 'mailing_care_of',\n",
       "       'mailing_city_state', 'mailing_street', 'mailing_zip', 'market_value',\n",
       "       'market_value_date', 'number_of_bathrooms', 'number_of_bedrooms',\n",
       "       'number_of_rooms', 'number_stories', 'off_street_open',\n",
       "       'other_building', 'owner_1', 'owner_2', 'parcel_number', 'parcel_shape',\n",
       "       'quality_grade', 'recording_date', 'registry_number', 'sale_date',\n",
       "       'sale_price', 'separate_utilities', 'sewer', 'site_type', 'state_code',\n",
       "       'street_code', 'street_designation', 'street_direction', 'street_name',\n",
       "       'suffix', 'taxable_building', 'taxable_land', 'topography',\n",
       "       'total_area', 'total_livable_area', 'type_heater', 'unfinished', 'unit',\n",
       "       'utility', 'view_type', 'year_built', 'year_built_estimate', 'zip_code',\n",
       "       'zoning', 'pin', 'building_code_new', 'building_code_description_new',\n",
       "       'objectid', 'lat', 'lng'],\n",
       "      dtype='object')"
      ]
     },
     "execution_count": 4,
     "metadata": {},
     "output_type": "execute_result"
    }
   ],
   "source": [
    "housing.columns"
   ]
  },
  {
   "cell_type": "code",
   "execution_count": 5,
   "id": "76608435",
   "metadata": {},
   "outputs": [],
   "source": [
    "drop_column_list = ['the_geom','type_heater', 'unfinished', 'utility', 'view_type', 'topography','suffix','fuel','exterior_condition','exempt_land', 'exempt_building','assessment_date','beginning_point', 'book_and_page', 'category_code_description', 'cross_reference', 'house_number','location', 'mailing_address_1', 'mailing_address_2', 'mailing_care_of', 'mailing_city_state', 'mailing_street', 'market_value_date','the_geom_webmercator','other_building','owner_1', 'owner_2', 'parcel_number', 'recording_date', 'sale_date', 'registry_number', 'unit', 'objectid','building_code', 'census_tract', 'date_exterior_condition', 'year_built_estimate', 'house_extension', 'mailing_zip', 'sewer', 'site_type','state_code',                    'street_designation', 'street_name', 'street_direction',       'geographic_ward']\n",
    "data = housing.drop(drop_column_list, axis = 1)"
   ]
  },
  {
   "cell_type": "code",
   "execution_count": 6,
   "id": "48de9c8e",
   "metadata": {},
   "outputs": [
    {
     "data": {
      "text/plain": [
       "Index(['basements', 'building_code_description', 'category_code',\n",
       "       'central_air', 'depth', 'fireplaces', 'frontage', 'garage_spaces',\n",
       "       'garage_type', 'general_construction', 'homestead_exemption',\n",
       "       'interior_condition', 'market_value', 'number_of_bathrooms',\n",
       "       'number_of_bedrooms', 'number_of_rooms', 'number_stories',\n",
       "       'off_street_open', 'parcel_shape', 'quality_grade', 'sale_price',\n",
       "       'separate_utilities', 'street_code', 'taxable_building', 'taxable_land',\n",
       "       'total_area', 'total_livable_area', 'year_built', 'zip_code', 'zoning',\n",
       "       'pin', 'building_code_new', 'building_code_description_new', 'lat',\n",
       "       'lng'],\n",
       "      dtype='object')"
      ]
     },
     "execution_count": 6,
     "metadata": {},
     "output_type": "execute_result"
    }
   ],
   "source": [
    "data.columns"
   ]
  },
  {
   "cell_type": "code",
   "execution_count": 7,
   "id": "1a020613",
   "metadata": {},
   "outputs": [
    {
     "data": {
      "text/plain": [
       "0         NaN\n",
       "1         NaN\n",
       "2         0.0\n",
       "3         NaN\n",
       "4         NaN\n",
       "         ... \n",
       "582932    NaN\n",
       "582933    NaN\n",
       "582934    NaN\n",
       "582935    NaN\n",
       "582936    NaN\n",
       "Name: number_of_bathrooms, Length: 582937, dtype: float64"
      ]
     },
     "execution_count": 7,
     "metadata": {},
     "output_type": "execute_result"
    }
   ],
   "source": [
    "data.number_of_bathrooms"
   ]
  },
  {
   "cell_type": "code",
   "execution_count": 8,
   "id": "84162f68",
   "metadata": {},
   "outputs": [],
   "source": [
    "data = data.dropna(subset=['number_of_bathrooms'])\n"
   ]
  },
  {
   "cell_type": "code",
   "execution_count": 9,
   "id": "25ff14f0",
   "metadata": {},
   "outputs": [
    {
     "name": "stdout",
     "output_type": "stream",
     "text": [
      "number_of_bathrooms\n",
      "1.0     318236\n",
      "0.0     114600\n",
      "2.0      51660\n",
      "3.0      11684\n",
      "4.0       2434\n",
      "5.0        452\n",
      "6.0        307\n",
      "7.0        101\n",
      "8.0         93\n",
      "10.0        29\n",
      "9.0         28\n",
      "12.0        16\n",
      "11.0        11\n",
      "13.0         4\n",
      "14.0         3\n",
      "21.0         2\n",
      "15.0         2\n",
      "22.0         1\n",
      "17.0         1\n",
      "16.0         1\n",
      "25.0         1\n",
      "Name: count, dtype: int64\n"
     ]
    }
   ],
   "source": [
    "bathroom_counts = data['number_of_bathrooms'].value_counts()\n",
    "print(bathroom_counts)"
   ]
  },
  {
   "cell_type": "markdown",
   "id": "635130c8",
   "metadata": {},
   "source": [
    "After looking at the dataset I noticed that there are NAN values inside the market value, as this is a very oimportant festure, we will replsce the NANs with the median"
   ]
  },
  {
   "cell_type": "code",
   "execution_count": 10,
   "id": "d28e8939",
   "metadata": {},
   "outputs": [],
   "source": [
    "data = data.dropna(subset=['market_value'])"
   ]
  },
  {
   "cell_type": "code",
   "execution_count": 11,
   "id": "30de1ef2",
   "metadata": {},
   "outputs": [
    {
     "data": {
      "text/plain": [
       "basements                         True\n",
       "building_code_description         True\n",
       "category_code                    False\n",
       "central_air                       True\n",
       "depth                             True\n",
       "fireplaces                        True\n",
       "frontage                          True\n",
       "garage_spaces                     True\n",
       "garage_type                       True\n",
       "general_construction              True\n",
       "homestead_exemption              False\n",
       "interior_condition                True\n",
       "market_value                     False\n",
       "number_of_bathrooms              False\n",
       "number_of_bedrooms                True\n",
       "number_of_rooms                   True\n",
       "number_stories                    True\n",
       "off_street_open                   True\n",
       "parcel_shape                      True\n",
       "quality_grade                     True\n",
       "sale_price                        True\n",
       "separate_utilities                True\n",
       "street_code                      False\n",
       "taxable_building                  True\n",
       "taxable_land                     False\n",
       "total_area                        True\n",
       "total_livable_area                True\n",
       "year_built                        True\n",
       "zip_code                          True\n",
       "zoning                            True\n",
       "pin                              False\n",
       "building_code_new                 True\n",
       "building_code_description_new     True\n",
       "lat                               True\n",
       "lng                               True\n",
       "dtype: bool"
      ]
     },
     "execution_count": 11,
     "metadata": {},
     "output_type": "execute_result"
    }
   ],
   "source": [
    "data.isnull().any()"
   ]
  },
  {
   "cell_type": "code",
   "execution_count": 12,
   "id": "b0594126",
   "metadata": {},
   "outputs": [],
   "source": [
    "data['market_value'] = data['market_value'].fillna(data['market_value'].mean())\n",
    "data['total_area'] = data['total_area'].fillna(data['total_area'].mean())\n",
    "\n"
   ]
  },
  {
   "cell_type": "code",
   "execution_count": 13,
   "id": "07dfa29c",
   "metadata": {
    "scrolled": true
   },
   "outputs": [
    {
     "data": {
      "text/plain": [
       "<Axes: xlabel='market_value'>"
      ]
     },
     "execution_count": 13,
     "metadata": {},
     "output_type": "execute_result"
    },
    {
     "data": {
      "image/png": "[encoded data removed]",
      "text/plain": [
       "<Figure size 640x480 with 1 Axes>"
      ]
     },
     "metadata": {},
     "output_type": "display_data"
    }
   ],
   "source": [
    "sns.boxplot(x=data['market_value'])\n"
   ]
  },
  {
   "cell_type": "code",
   "execution_count": 14,
   "id": "fe45cf20",
   "metadata": {},
   "outputs": [
    {
     "data": {
      "text/plain": [
       "<Axes: xlabel='market_value'>"
      ]
     },
     "execution_count": 14,
     "metadata": {},
     "output_type": "execute_result"
    },
    {
     "data": {
      "image/png": "[encoded data removed]",
      "text/plain": [
       "<Figure size 640x480 with 1 Axes>"
      ]
     },
     "metadata": {},
     "output_type": "display_data"
    }
   ],
   "source": [
    "#Removing YrsOfService outliers\n",
    "data = data[ data.market_value < 200000]\n",
    "sns.boxplot(x=data['market_value'])\n"
   ]
  },
  {
   "cell_type": "code",
   "execution_count": 15,
   "id": "33900a00",
   "metadata": {},
   "outputs": [
    {
     "data": {
      "text/plain": [
       "<Axes: xlabel='total_area'>"
      ]
     },
     "execution_count": 15,
     "metadata": {},
     "output_type": "execute_result"
    },
    {
     "data": {
      "image/png": "[encoded data removed]",
      "text/plain": [
       "<Figure size 640x480 with 1 Axes>"
      ]
     },
     "metadata": {},
     "output_type": "display_data"
    }
   ],
   "source": [
    "#Removing YrsOfService outliers\n",
    "data = data[ data.total_area < 2300]\n",
    "sns.boxplot(x=data['total_area'])"
   ]
  },
  {
   "cell_type": "code",
   "execution_count": 16,
   "id": "83dbaa56",
   "metadata": {},
   "outputs": [
    {
     "data": {
      "text/html": [
       "<div>\n",
       "<style scoped>\n",
       "    .dataframe tbody tr th:only-of-type {\n",
       "        vertical-align: middle;\n",
       "    }\n",
       "\n",
       "    .dataframe tbody tr th {\n",
       "        vertical-align: top;\n",
       "    }\n",
       "\n",
       "    .dataframe thead th {\n",
       "        text-align: right;\n",
       "    }\n",
       "</style>\n",
       "<table border=\"1\" class=\"dataframe\">\n",
       "  <thead>\n",
       "    <tr style=\"text-align: right;\">\n",
       "      <th></th>\n",
       "      <th>basements</th>\n",
       "      <th>building_code_description</th>\n",
       "      <th>category_code</th>\n",
       "      <th>central_air</th>\n",
       "      <th>depth</th>\n",
       "      <th>fireplaces</th>\n",
       "      <th>frontage</th>\n",
       "      <th>garage_spaces</th>\n",
       "      <th>garage_type</th>\n",
       "      <th>general_construction</th>\n",
       "      <th>...</th>\n",
       "      <th>total_area</th>\n",
       "      <th>total_livable_area</th>\n",
       "      <th>year_built</th>\n",
       "      <th>zip_code</th>\n",
       "      <th>zoning</th>\n",
       "      <th>pin</th>\n",
       "      <th>building_code_new</th>\n",
       "      <th>building_code_description_new</th>\n",
       "      <th>lat</th>\n",
       "      <th>lng</th>\n",
       "    </tr>\n",
       "  </thead>\n",
       "  <tbody>\n",
       "    <tr>\n",
       "      <th>11</th>\n",
       "      <td>NaN</td>\n",
       "      <td>ROW 2 STY MASONRY</td>\n",
       "      <td>1</td>\n",
       "      <td>NaN</td>\n",
       "      <td>44.0</td>\n",
       "      <td>0.0</td>\n",
       "      <td>14.0</td>\n",
       "      <td>0.0</td>\n",
       "      <td>NaN</td>\n",
       "      <td>A</td>\n",
       "      <td>...</td>\n",
       "      <td>609.0</td>\n",
       "      <td>840.0</td>\n",
       "      <td>1915.0</td>\n",
       "      <td>19132.0</td>\n",
       "      <td>RSA5</td>\n",
       "      <td>1001071884</td>\n",
       "      <td>22</td>\n",
       "      <td>ROW TYPICAL</td>\n",
       "      <td>39.991279</td>\n",
       "      <td>-75.174171</td>\n",
       "    </tr>\n",
       "    <tr>\n",
       "      <th>42</th>\n",
       "      <td>D</td>\n",
       "      <td>PRIV GAR 1 STY MASONRY</td>\n",
       "      <td>1</td>\n",
       "      <td>NaN</td>\n",
       "      <td>64.0</td>\n",
       "      <td>0.0</td>\n",
       "      <td>14.0</td>\n",
       "      <td>0.0</td>\n",
       "      <td>NaN</td>\n",
       "      <td>A</td>\n",
       "      <td>...</td>\n",
       "      <td>776.0</td>\n",
       "      <td>258.0</td>\n",
       "      <td>1899.0</td>\n",
       "      <td>19125.0</td>\n",
       "      <td>RSA5</td>\n",
       "      <td>1001129558</td>\n",
       "      <td>NaN</td>\n",
       "      <td>NaN</td>\n",
       "      <td>39.977132</td>\n",
       "      <td>-75.127125</td>\n",
       "    </tr>\n",
       "    <tr>\n",
       "      <th>83</th>\n",
       "      <td>D</td>\n",
       "      <td>ROW 3 STY MASONRY</td>\n",
       "      <td>1</td>\n",
       "      <td>NaN</td>\n",
       "      <td>57.0</td>\n",
       "      <td>0.0</td>\n",
       "      <td>15.0</td>\n",
       "      <td>0.0</td>\n",
       "      <td>NaN</td>\n",
       "      <td>A</td>\n",
       "      <td>...</td>\n",
       "      <td>869.0</td>\n",
       "      <td>1619.0</td>\n",
       "      <td>1920.0</td>\n",
       "      <td>19130.0</td>\n",
       "      <td>RSA5</td>\n",
       "      <td>1001392027</td>\n",
       "      <td>22</td>\n",
       "      <td>ROW TYPICAL</td>\n",
       "      <td>39.966744</td>\n",
       "      <td>-75.167490</td>\n",
       "    </tr>\n",
       "    <tr>\n",
       "      <th>137</th>\n",
       "      <td>NaN</td>\n",
       "      <td>ROW B/GAR 2 STY MASONRY</td>\n",
       "      <td>1</td>\n",
       "      <td>NaN</td>\n",
       "      <td>81.0</td>\n",
       "      <td>0.0</td>\n",
       "      <td>16.0</td>\n",
       "      <td>0.0</td>\n",
       "      <td>NaN</td>\n",
       "      <td>A</td>\n",
       "      <td>...</td>\n",
       "      <td>1293.0</td>\n",
       "      <td>1376.0</td>\n",
       "      <td>1940.0</td>\n",
       "      <td>19131.0</td>\n",
       "      <td>RSA5</td>\n",
       "      <td>1001364309</td>\n",
       "      <td>24</td>\n",
       "      <td>ROW PORCH FRONT</td>\n",
       "      <td>39.986468</td>\n",
       "      <td>-75.239986</td>\n",
       "    </tr>\n",
       "    <tr>\n",
       "      <th>178</th>\n",
       "      <td>NaN</td>\n",
       "      <td>ROW CONV/APT 3 STY MASON</td>\n",
       "      <td>2</td>\n",
       "      <td>NaN</td>\n",
       "      <td>63.0</td>\n",
       "      <td>0.0</td>\n",
       "      <td>17.0</td>\n",
       "      <td>0.0</td>\n",
       "      <td>NaN</td>\n",
       "      <td>A</td>\n",
       "      <td>...</td>\n",
       "      <td>1036.0</td>\n",
       "      <td>2615.0</td>\n",
       "      <td>1915.0</td>\n",
       "      <td>19132.0</td>\n",
       "      <td>RM1</td>\n",
       "      <td>1001166899</td>\n",
       "      <td>22</td>\n",
       "      <td>ROW TYPICAL</td>\n",
       "      <td>39.990526</td>\n",
       "      <td>-75.153870</td>\n",
       "    </tr>\n",
       "    <tr>\n",
       "      <th>...</th>\n",
       "      <td>...</td>\n",
       "      <td>...</td>\n",
       "      <td>...</td>\n",
       "      <td>...</td>\n",
       "      <td>...</td>\n",
       "      <td>...</td>\n",
       "      <td>...</td>\n",
       "      <td>...</td>\n",
       "      <td>...</td>\n",
       "      <td>...</td>\n",
       "      <td>...</td>\n",
       "      <td>...</td>\n",
       "      <td>...</td>\n",
       "      <td>...</td>\n",
       "      <td>...</td>\n",
       "      <td>...</td>\n",
       "      <td>...</td>\n",
       "      <td>...</td>\n",
       "      <td>...</td>\n",
       "      <td>...</td>\n",
       "      <td>...</td>\n",
       "    </tr>\n",
       "    <tr>\n",
       "      <th>582908</th>\n",
       "      <td>F</td>\n",
       "      <td>ROW B/GAR 2 STY MASONRY</td>\n",
       "      <td>1</td>\n",
       "      <td>Y</td>\n",
       "      <td>61.0</td>\n",
       "      <td>0.0</td>\n",
       "      <td>18.0</td>\n",
       "      <td>1.0</td>\n",
       "      <td>NaN</td>\n",
       "      <td>A</td>\n",
       "      <td>...</td>\n",
       "      <td>1101.0</td>\n",
       "      <td>1168.0</td>\n",
       "      <td>1950.0</td>\n",
       "      <td>19149.0</td>\n",
       "      <td>RSA5</td>\n",
       "      <td>1001367315</td>\n",
       "      <td>23</td>\n",
       "      <td>ROW POST WAR</td>\n",
       "      <td>40.030409</td>\n",
       "      <td>-75.065480</td>\n",
       "    </tr>\n",
       "    <tr>\n",
       "      <th>582911</th>\n",
       "      <td>NaN</td>\n",
       "      <td>PRIV GAR 1 STY MASONRY</td>\n",
       "      <td>1</td>\n",
       "      <td>N</td>\n",
       "      <td>23.0</td>\n",
       "      <td>0.0</td>\n",
       "      <td>14.0</td>\n",
       "      <td>1.0</td>\n",
       "      <td>NaN</td>\n",
       "      <td>A</td>\n",
       "      <td>...</td>\n",
       "      <td>311.0</td>\n",
       "      <td>311.0</td>\n",
       "      <td>1940.0</td>\n",
       "      <td>19120.0</td>\n",
       "      <td>RSA5</td>\n",
       "      <td>1001328149</td>\n",
       "      <td>NaN</td>\n",
       "      <td>NaN</td>\n",
       "      <td>40.029283</td>\n",
       "      <td>-75.133497</td>\n",
       "    </tr>\n",
       "    <tr>\n",
       "      <th>582913</th>\n",
       "      <td>NaN</td>\n",
       "      <td>ROW 2 STY MASONRY</td>\n",
       "      <td>1</td>\n",
       "      <td>NaN</td>\n",
       "      <td>63.0</td>\n",
       "      <td>0.0</td>\n",
       "      <td>15.0</td>\n",
       "      <td>0.0</td>\n",
       "      <td>NaN</td>\n",
       "      <td>A</td>\n",
       "      <td>...</td>\n",
       "      <td>943.0</td>\n",
       "      <td>1092.0</td>\n",
       "      <td>1925.0</td>\n",
       "      <td>19139.0</td>\n",
       "      <td>RSA5</td>\n",
       "      <td>1001177379</td>\n",
       "      <td>24</td>\n",
       "      <td>ROW PORCH FRONT</td>\n",
       "      <td>39.964473</td>\n",
       "      <td>-75.242760</td>\n",
       "    </tr>\n",
       "    <tr>\n",
       "      <th>582914</th>\n",
       "      <td>F</td>\n",
       "      <td>ROW B/GAR 2 STY MASONRY</td>\n",
       "      <td>1</td>\n",
       "      <td>NaN</td>\n",
       "      <td>89.0</td>\n",
       "      <td>0.0</td>\n",
       "      <td>16.0</td>\n",
       "      <td>1.0</td>\n",
       "      <td>NaN</td>\n",
       "      <td>A</td>\n",
       "      <td>...</td>\n",
       "      <td>1420.0</td>\n",
       "      <td>1152.0</td>\n",
       "      <td>1945.0</td>\n",
       "      <td>19149.0</td>\n",
       "      <td>RSA5</td>\n",
       "      <td>1001559000</td>\n",
       "      <td>24</td>\n",
       "      <td>ROW PORCH FRONT</td>\n",
       "      <td>40.036864</td>\n",
       "      <td>-75.044498</td>\n",
       "    </tr>\n",
       "    <tr>\n",
       "      <th>582919</th>\n",
       "      <td>D</td>\n",
       "      <td>ROW 2 STY MASONRY</td>\n",
       "      <td>1</td>\n",
       "      <td>N</td>\n",
       "      <td>50.0</td>\n",
       "      <td>0.0</td>\n",
       "      <td>15.0</td>\n",
       "      <td>0.0</td>\n",
       "      <td>NaN</td>\n",
       "      <td>H</td>\n",
       "      <td>...</td>\n",
       "      <td>725.0</td>\n",
       "      <td>1032.0</td>\n",
       "      <td>1920.0</td>\n",
       "      <td>19134.0</td>\n",
       "      <td>RSA5</td>\n",
       "      <td>1001502267</td>\n",
       "      <td>22</td>\n",
       "      <td>ROW TYPICAL</td>\n",
       "      <td>39.989977</td>\n",
       "      <td>-75.115001</td>\n",
       "    </tr>\n",
       "  </tbody>\n",
       "</table>\n",
       "<p>261567 rows × 35 columns</p>\n",
       "</div>"
      ],
      "text/plain": [
       "       basements building_code_description  category_code central_air  depth  \\\n",
       "11           NaN         ROW 2 STY MASONRY              1         NaN   44.0   \n",
       "42             D    PRIV GAR 1 STY MASONRY              1         NaN   64.0   \n",
       "83             D         ROW 3 STY MASONRY              1         NaN   57.0   \n",
       "137          NaN   ROW B/GAR 2 STY MASONRY              1         NaN   81.0   \n",
       "178          NaN  ROW CONV/APT 3 STY MASON              2         NaN   63.0   \n",
       "...          ...                       ...            ...         ...    ...   \n",
       "582908         F   ROW B/GAR 2 STY MASONRY              1           Y   61.0   \n",
       "582911       NaN    PRIV GAR 1 STY MASONRY              1           N   23.0   \n",
       "582913       NaN         ROW 2 STY MASONRY              1         NaN   63.0   \n",
       "582914         F   ROW B/GAR 2 STY MASONRY              1         NaN   89.0   \n",
       "582919         D         ROW 2 STY MASONRY              1           N   50.0   \n",
       "\n",
       "        fireplaces  frontage  garage_spaces garage_type general_construction  \\\n",
       "11             0.0      14.0            0.0         NaN                   A    \n",
       "42             0.0      14.0            0.0         NaN                   A    \n",
       "83             0.0      15.0            0.0         NaN                   A    \n",
       "137            0.0      16.0            0.0         NaN                   A    \n",
       "178            0.0      17.0            0.0         NaN                   A    \n",
       "...            ...       ...            ...         ...                  ...   \n",
       "582908         0.0      18.0            1.0         NaN                   A    \n",
       "582911         0.0      14.0            1.0         NaN                   A    \n",
       "582913         0.0      15.0            0.0         NaN                   A    \n",
       "582914         0.0      16.0            1.0         NaN                   A    \n",
       "582919         0.0      15.0            0.0         NaN                   H    \n",
       "\n",
       "        ...  total_area  total_livable_area  year_built  zip_code  zoning  \\\n",
       "11      ...       609.0               840.0      1915.0   19132.0    RSA5   \n",
       "42      ...       776.0               258.0      1899.0   19125.0    RSA5   \n",
       "83      ...       869.0              1619.0      1920.0   19130.0    RSA5   \n",
       "137     ...      1293.0              1376.0      1940.0   19131.0    RSA5   \n",
       "178     ...      1036.0              2615.0      1915.0   19132.0     RM1   \n",
       "...     ...         ...                 ...         ...       ...     ...   \n",
       "582908  ...      1101.0              1168.0      1950.0   19149.0    RSA5   \n",
       "582911  ...       311.0               311.0      1940.0   19120.0    RSA5   \n",
       "582913  ...       943.0              1092.0      1925.0   19139.0    RSA5   \n",
       "582914  ...      1420.0              1152.0      1945.0   19149.0    RSA5   \n",
       "582919  ...       725.0              1032.0      1920.0   19134.0    RSA5   \n",
       "\n",
       "               pin  building_code_new  building_code_description_new  \\\n",
       "11      1001071884                 22                    ROW TYPICAL   \n",
       "42      1001129558                NaN                            NaN   \n",
       "83      1001392027                 22                    ROW TYPICAL   \n",
       "137     1001364309                 24                ROW PORCH FRONT   \n",
       "178     1001166899                 22                    ROW TYPICAL   \n",
       "...            ...                ...                            ...   \n",
       "582908  1001367315                 23                   ROW POST WAR   \n",
       "582911  1001328149                NaN                            NaN   \n",
       "582913  1001177379                 24                ROW PORCH FRONT   \n",
       "582914  1001559000                 24                ROW PORCH FRONT   \n",
       "582919  1001502267                 22                    ROW TYPICAL   \n",
       "\n",
       "              lat        lng  \n",
       "11      39.991279 -75.174171  \n",
       "42      39.977132 -75.127125  \n",
       "83      39.966744 -75.167490  \n",
       "137     39.986468 -75.239986  \n",
       "178     39.990526 -75.153870  \n",
       "...           ...        ...  \n",
       "582908  40.030409 -75.065480  \n",
       "582911  40.029283 -75.133497  \n",
       "582913  39.964473 -75.242760  \n",
       "582914  40.036864 -75.044498  \n",
       "582919  39.989977 -75.115001  \n",
       "\n",
       "[261567 rows x 35 columns]"
      ]
     },
     "execution_count": 16,
     "metadata": {},
     "output_type": "execute_result"
    }
   ],
   "source": [
    "data"
   ]
  },
  {
   "cell_type": "markdown",
   "id": "d95072a5",
   "metadata": {},
   "source": [
    "# Linear regression "
   ]
  },
  {
   "cell_type": "code",
   "execution_count": 17,
   "id": "1d210f7a",
   "metadata": {},
   "outputs": [],
   "source": [
    "Xarray = data['market_value'].values\n",
    "Yarray = data['total_area'].values"
   ]
  },
  {
   "cell_type": "code",
   "execution_count": 18,
   "id": "98535811",
   "metadata": {},
   "outputs": [],
   "source": [
    "X = Xarray.reshape(-1, 1)\n",
    "Y = Yarray.reshape(-1, 1)"
   ]
  },
  {
   "cell_type": "code",
   "execution_count": 19,
   "id": "f78bfe75",
   "metadata": {},
   "outputs": [
    {
     "data": {
      "text/html": [
       "<style>#sk-container-id-1 {color: black;}#sk-container-id-1 pre{padding: 0;}#sk-container-id-1 div.sk-toggleable {background-color: white;}#sk-container-id-1 label.sk-toggleable__label {cursor: pointer;display: block;width: 100%;margin-bottom: 0;padding: 0.3em;box-sizing: border-box;text-align: center;}#sk-container-id-1 label.sk-toggleable__label-arrow:before {content: \"▸\";float: left;margin-right: 0.25em;color: #696969;}#sk-container-id-1 label.sk-toggleable__label-arrow:hover:before {color: black;}#sk-container-id-1 div.sk-estimator:hover label.sk-toggleable__label-arrow:before {color: black;}#sk-container-id-1 div.sk-toggleable__content {max-height: 0;max-width: 0;overflow: hidden;text-align: left;background-color: #f0f8ff;}#sk-container-id-1 div.sk-toggleable__content pre {margin: 0.2em;color: black;border-radius: 0.25em;background-color: #f0f8ff;}#sk-container-id-1 input.sk-toggleable__control:checked~div.sk-toggleable__content {max-height: 200px;max-width: 100%;overflow: auto;}#sk-container-id-1 input.sk-toggleable__control:checked~label.sk-toggleable__label-arrow:before {content: \"▾\";}#sk-container-id-1 div.sk-estimator input.sk-toggleable__control:checked~label.sk-toggleable__label {background-color: #d4ebff;}#sk-container-id-1 div.sk-label input.sk-toggleable__control:checked~label.sk-toggleable__label {background-color: #d4ebff;}#sk-container-id-1 input.sk-hidden--visually {border: 0;clip: rect(1px 1px 1px 1px);clip: rect(1px, 1px, 1px, 1px);height: 1px;margin: -1px;overflow: hidden;padding: 0;position: absolute;width: 1px;}#sk-container-id-1 div.sk-estimator {font-family: monospace;background-color: #f0f8ff;border: 1px dotted black;border-radius: 0.25em;box-sizing: border-box;margin-bottom: 0.5em;}#sk-container-id-1 div.sk-estimator:hover {background-color: #d4ebff;}#sk-container-id-1 div.sk-parallel-item::after {content: \"\";width: 100%;border-bottom: 1px solid gray;flex-grow: 1;}#sk-container-id-1 div.sk-label:hover label.sk-toggleable__label {background-color: #d4ebff;}#sk-container-id-1 div.sk-serial::before {content: \"\";position: absolute;border-left: 1px solid gray;box-sizing: border-box;top: 0;bottom: 0;left: 50%;z-index: 0;}#sk-container-id-1 div.sk-serial {display: flex;flex-direction: column;align-items: center;background-color: white;padding-right: 0.2em;padding-left: 0.2em;position: relative;}#sk-container-id-1 div.sk-item {position: relative;z-index: 1;}#sk-container-id-1 div.sk-parallel {display: flex;align-items: stretch;justify-content: center;background-color: white;position: relative;}#sk-container-id-1 div.sk-item::before, #sk-container-id-1 div.sk-parallel-item::before {content: \"\";position: absolute;border-left: 1px solid gray;box-sizing: border-box;top: 0;bottom: 0;left: 50%;z-index: -1;}#sk-container-id-1 div.sk-parallel-item {display: flex;flex-direction: column;z-index: 1;position: relative;background-color: white;}#sk-container-id-1 div.sk-parallel-item:first-child::after {align-self: flex-end;width: 50%;}#sk-container-id-1 div.sk-parallel-item:last-child::after {align-self: flex-start;width: 50%;}#sk-container-id-1 div.sk-parallel-item:only-child::after {width: 0;}#sk-container-id-1 div.sk-dashed-wrapped {border: 1px dashed gray;margin: 0 0.4em 0.5em 0.4em;box-sizing: border-box;padding-bottom: 0.4em;background-color: white;}#sk-container-id-1 div.sk-label label {font-family: monospace;font-weight: bold;display: inline-block;line-height: 1.2em;}#sk-container-id-1 div.sk-label-container {text-align: center;}#sk-container-id-1 div.sk-container {/* jupyter's `normalize.less` sets `[hidden] { display: none; }` but bootstrap.min.css set `[hidden] { display: none !important; }` so we also need the `!important` here to be able to override the default hidden behavior on the sphinx rendered scikit-learn.org. See: https://github.com/scikit-learn/scikit-learn/issues/21755 */display: inline-block !important;position: relative;}#sk-container-id-1 div.sk-text-repr-fallback {display: none;}</style><div id=\"sk-container-id-1\" class=\"sk-top-container\"><div class=\"sk-text-repr-fallback\"><pre>LinearRegression()</pre><b>In a Jupyter environment, please rerun this cell to show the HTML representation or trust the notebook. <br />On GitHub, the HTML representation is unable to render, please try loading this page with nbviewer.org.</b></div><div class=\"sk-container\" hidden><div class=\"sk-item\"><div class=\"sk-estimator sk-toggleable\"><input class=\"sk-toggleable__control sk-hidden--visually\" id=\"sk-estimator-id-1\" type=\"checkbox\" checked><label for=\"sk-estimator-id-1\" class=\"sk-toggleable__label sk-toggleable__label-arrow\">LinearRegression</label><div class=\"sk-toggleable__content\"><pre>LinearRegression()</pre></div></div></div></div></div>"
      ],
      "text/plain": [
       "LinearRegression()"
      ]
     },
     "execution_count": 19,
     "metadata": {},
     "output_type": "execute_result"
    }
   ],
   "source": [
    "model1 = LinearRegression()\n",
    "model1.fit(X, Y)"
   ]
  },
  {
   "cell_type": "code",
   "execution_count": 20,
   "id": "b3d60565",
   "metadata": {},
   "outputs": [],
   "source": [
    "Y_pred = model1.predict(X)"
   ]
  },
  {
   "cell_type": "code",
   "execution_count": 21,
   "id": "81f439d3",
   "metadata": {},
   "outputs": [
    {
     "data": {
      "text/plain": [
       "array([[ 898.32479234],\n",
       "       [ 805.45252533],\n",
       "       [ 848.7122458 ],\n",
       "       ...,\n",
       "       [ 989.38196618],\n",
       "       [1376.90435718],\n",
       "       [ 973.95367427]])"
      ]
     },
     "execution_count": 21,
     "metadata": {},
     "output_type": "execute_result"
    }
   ],
   "source": [
    "Y_pred "
   ]
  },
  {
   "cell_type": "code",
   "execution_count": 22,
   "id": "944b56ed",
   "metadata": {},
   "outputs": [
    {
     "data": {
      "image/png": "[encoded data removed]",
      "text/plain": [
       "<Figure size 640x480 with 1 Axes>"
      ]
     },
     "metadata": {},
     "output_type": "display_data"
    }
   ],
   "source": [
    "plt.scatter(X, Y,  color='gray')\n",
    "plt.plot(X, Y_pred, color='red', linewidth=2)\n",
    "plt.show()"
   ]
  },
  {
   "cell_type": "code",
   "execution_count": 23,
   "id": "11d3b5f2",
   "metadata": {},
   "outputs": [],
   "source": [
    "#Splitting Data intro training and testing set\n",
    "from sklearn.model_selection import train_test_split \n",
    "X_train, X_test, Y_train, Y_test = train_test_split(X, Y, test_size=0.2, random_state=0)"
   ]
  },
  {
   "cell_type": "code",
   "execution_count": 24,
   "id": "002129a6",
   "metadata": {},
   "outputs": [
    {
     "name": "stdout",
     "output_type": "stream",
     "text": [
      "(209253, 1)\n",
      "(52314, 1)\n",
      "(209253, 1)\n",
      "(52314, 1)\n",
      "209253.6\n",
      "52313.4\n"
     ]
    }
   ],
   "source": [
    "print(X_train.shape)\n",
    "print(X_test.shape)\n",
    "print(Y_train.shape)\n",
    "print(Y_test.shape)\n",
    "print(0.8 * data.shape[0])\n",
    "print(0.2 * data.shape[0])"
   ]
  },
  {
   "cell_type": "code",
   "execution_count": 25,
   "id": "654d3807",
   "metadata": {},
   "outputs": [],
   "source": [
    "#Splitting Data intro training and testing set\n",
    "from sklearn.model_selection import train_test_split \n",
    "X_train, X_test, Y_train, Y_test = train_test_split(X, Y, test_size=0.2, random_state=0)"
   ]
  },
  {
   "cell_type": "code",
   "execution_count": 26,
   "id": "dc462ea8",
   "metadata": {},
   "outputs": [
    {
     "data": {
      "text/html": [
       "<style>#sk-container-id-2 {color: black;}#sk-container-id-2 pre{padding: 0;}#sk-container-id-2 div.sk-toggleable {background-color: white;}#sk-container-id-2 label.sk-toggleable__label {cursor: pointer;display: block;width: 100%;margin-bottom: 0;padding: 0.3em;box-sizing: border-box;text-align: center;}#sk-container-id-2 label.sk-toggleable__label-arrow:before {content: \"▸\";float: left;margin-right: 0.25em;color: #696969;}#sk-container-id-2 label.sk-toggleable__label-arrow:hover:before {color: black;}#sk-container-id-2 div.sk-estimator:hover label.sk-toggleable__label-arrow:before {color: black;}#sk-container-id-2 div.sk-toggleable__content {max-height: 0;max-width: 0;overflow: hidden;text-align: left;background-color: #f0f8ff;}#sk-container-id-2 div.sk-toggleable__content pre {margin: 0.2em;color: black;border-radius: 0.25em;background-color: #f0f8ff;}#sk-container-id-2 input.sk-toggleable__control:checked~div.sk-toggleable__content {max-height: 200px;max-width: 100%;overflow: auto;}#sk-container-id-2 input.sk-toggleable__control:checked~label.sk-toggleable__label-arrow:before {content: \"▾\";}#sk-container-id-2 div.sk-estimator input.sk-toggleable__control:checked~label.sk-toggleable__label {background-color: #d4ebff;}#sk-container-id-2 div.sk-label input.sk-toggleable__control:checked~label.sk-toggleable__label {background-color: #d4ebff;}#sk-container-id-2 input.sk-hidden--visually {border: 0;clip: rect(1px 1px 1px 1px);clip: rect(1px, 1px, 1px, 1px);height: 1px;margin: -1px;overflow: hidden;padding: 0;position: absolute;width: 1px;}#sk-container-id-2 div.sk-estimator {font-family: monospace;background-color: #f0f8ff;border: 1px dotted black;border-radius: 0.25em;box-sizing: border-box;margin-bottom: 0.5em;}#sk-container-id-2 div.sk-estimator:hover {background-color: #d4ebff;}#sk-container-id-2 div.sk-parallel-item::after {content: \"\";width: 100%;border-bottom: 1px solid gray;flex-grow: 1;}#sk-container-id-2 div.sk-label:hover label.sk-toggleable__label {background-color: #d4ebff;}#sk-container-id-2 div.sk-serial::before {content: \"\";position: absolute;border-left: 1px solid gray;box-sizing: border-box;top: 0;bottom: 0;left: 50%;z-index: 0;}#sk-container-id-2 div.sk-serial {display: flex;flex-direction: column;align-items: center;background-color: white;padding-right: 0.2em;padding-left: 0.2em;position: relative;}#sk-container-id-2 div.sk-item {position: relative;z-index: 1;}#sk-container-id-2 div.sk-parallel {display: flex;align-items: stretch;justify-content: center;background-color: white;position: relative;}#sk-container-id-2 div.sk-item::before, #sk-container-id-2 div.sk-parallel-item::before {content: \"\";position: absolute;border-left: 1px solid gray;box-sizing: border-box;top: 0;bottom: 0;left: 50%;z-index: -1;}#sk-container-id-2 div.sk-parallel-item {display: flex;flex-direction: column;z-index: 1;position: relative;background-color: white;}#sk-container-id-2 div.sk-parallel-item:first-child::after {align-self: flex-end;width: 50%;}#sk-container-id-2 div.sk-parallel-item:last-child::after {align-self: flex-start;width: 50%;}#sk-container-id-2 div.sk-parallel-item:only-child::after {width: 0;}#sk-container-id-2 div.sk-dashed-wrapped {border: 1px dashed gray;margin: 0 0.4em 0.5em 0.4em;box-sizing: border-box;padding-bottom: 0.4em;background-color: white;}#sk-container-id-2 div.sk-label label {font-family: monospace;font-weight: bold;display: inline-block;line-height: 1.2em;}#sk-container-id-2 div.sk-label-container {text-align: center;}#sk-container-id-2 div.sk-container {/* jupyter's `normalize.less` sets `[hidden] { display: none; }` but bootstrap.min.css set `[hidden] { display: none !important; }` so we also need the `!important` here to be able to override the default hidden behavior on the sphinx rendered scikit-learn.org. See: https://github.com/scikit-learn/scikit-learn/issues/21755 */display: inline-block !important;position: relative;}#sk-container-id-2 div.sk-text-repr-fallback {display: none;}</style><div id=\"sk-container-id-2\" class=\"sk-top-container\"><div class=\"sk-text-repr-fallback\"><pre>LinearRegression()</pre><b>In a Jupyter environment, please rerun this cell to show the HTML representation or trust the notebook. <br />On GitHub, the HTML representation is unable to render, please try loading this page with nbviewer.org.</b></div><div class=\"sk-container\" hidden><div class=\"sk-item\"><div class=\"sk-estimator sk-toggleable\"><input class=\"sk-toggleable__control sk-hidden--visually\" id=\"sk-estimator-id-2\" type=\"checkbox\" checked><label for=\"sk-estimator-id-2\" class=\"sk-toggleable__label sk-toggleable__label-arrow\">LinearRegression</label><div class=\"sk-toggleable__content\"><pre>LinearRegression()</pre></div></div></div></div></div>"
      ],
      "text/plain": [
       "LinearRegression()"
      ]
     },
     "execution_count": 26,
     "metadata": {},
     "output_type": "execute_result"
    }
   ],
   "source": [
    "model2 = LinearRegression()\n",
    "model2.fit(X_train, Y_train)"
   ]
  },
  {
   "cell_type": "code",
   "execution_count": 27,
   "id": "17cd728d",
   "metadata": {
    "scrolled": true
   },
   "outputs": [
    {
     "data": {
      "image/png": "[encoded data removed]",
      "text/plain": [
       "<Figure size 640x480 with 1 Axes>"
      ]
     },
     "metadata": {},
     "output_type": "display_data"
    }
   ],
   "source": [
    "Y_pred = model2.predict(X_test)\n",
    "plt.scatter(X_test, Y_test,  color='gray')\n",
    "plt.scatter(X_test, Y_pred, color='red', linewidth=2)\n",
    "plt.show()"
   ]
  },
  {
   "cell_type": "code",
   "execution_count": 28,
   "id": "a33c2713",
   "metadata": {},
   "outputs": [
    {
     "name": "stdout",
     "output_type": "stream",
     "text": [
      "Mean Absolute Error: 326.0883379477789\n",
      "Mean Squared Error: 193541.86162706168\n",
      "Root Mean Squared Error: 439.9339287064157\n",
      "R-squared: 0.09270770092675906\n"
     ]
    }
   ],
   "source": [
    "print('Mean Absolute Error:', metrics.mean_absolute_error(Y_test, Y_pred))\n",
    "print('Mean Squared Error:', metrics.mean_squared_error(Y_test, Y_pred))\n",
    "print('Root Mean Squared Error:', np.sqrt(metrics.mean_squared_error(Y_test, Y_pred)))\n",
    "print('R-squared:', metrics.r2_score(Y_test, Y_pred)) # r^2 value isnt up to par becuase of how larger the data is "
   ]
  },
  {
   "cell_type": "markdown",
   "id": "74bef838",
   "metadata": {},
   "source": [
    "## Linear regression Evalulation Metrics "
   ]
  },
  {
   "cell_type": "code",
   "execution_count": 29,
   "id": "ea3306f3",
   "metadata": {},
   "outputs": [],
   "source": [
    "predictions = model2.predict(X_test)"
   ]
  },
  {
   "cell_type": "code",
   "execution_count": 30,
   "id": "37f9ba9a",
   "metadata": {},
   "outputs": [
    {
     "name": "stdout",
     "output_type": "stream",
     "text": [
      "              precision    recall  f1-score   support\n",
      "\n",
      "           0       0.00      0.00      0.00      2532\n",
      "           1       0.95      1.00      0.98     49782\n",
      "\n",
      "    accuracy                           0.95     52314\n",
      "   macro avg       0.48      0.50      0.49     52314\n",
      "weighted avg       0.91      0.95      0.93     52314\n",
      "\n",
      "0.9515999541231792\n"
     ]
    }
   ],
   "source": [
    "# Assuming predictions are continuous values\n",
    "threshold = 0.5  \n",
    "predictions_binary = [1 if p >= threshold else 0 for p in predictions]\n",
    "\n",
    "# Assuming Y_test is continuous\n",
    "Y_test_categorical = [1 if y >= threshold else 0 for y in Y_test]\n",
    "\n",
    "print(classification_report(Y_test_categorical, predictions_binary))\n",
    "print(accuracy_score(Y_test_categorical, predictions_binary))\n"
   ]
  },
  {
   "cell_type": "markdown",
   "id": "a59adfde",
   "metadata": {},
   "source": [
    "## Building a two factor model to predict the price with both the number of bathrooms and total area as its coloration is higher "
   ]
  },
  {
   "cell_type": "code",
   "execution_count": 31,
   "id": "21167c8a",
   "metadata": {},
   "outputs": [
    {
     "name": "stdout",
     "output_type": "stream",
     "text": [
      "(209253, 2) (52314, 2)\n",
      "(209253, 1) (52314, 1)\n"
     ]
    }
   ],
   "source": [
    "X = data[['total_area','number_of_bathrooms']].values.reshape(-1, 2)\n",
    "Y = data['market_value'].values.reshape(-1, 1)\n",
    " \n",
    "X_train, X_test, Y_train, Y_test = train_test_split(X, Y, test_size=0.2, random_state=0)\n",
    "print(X_train.shape, X_test.shape)\n",
    "print(Y_train.shape, Y_test.shape)"
   ]
  },
  {
   "cell_type": "code",
   "execution_count": 32,
   "id": "c9d56388",
   "metadata": {},
   "outputs": [
    {
     "name": "stdout",
     "output_type": "stream",
     "text": [
      "[[  30.05411376 7411.2995086 ]]\n",
      "[76136.60856434]\n"
     ]
    }
   ],
   "source": [
    "model2f = LinearRegression()\n",
    "model2f.fit(X_train, Y_train)\n",
    "Y_pred = model2f.predict(X_test)\n",
    "print(model2f.coef_)\n",
    "print(model2f.intercept_)"
   ]
  },
  {
   "cell_type": "code",
   "execution_count": 33,
   "id": "42313630",
   "metadata": {},
   "outputs": [
    {
     "data": {
      "image/png": "[encoded data removed]",
      "text/plain": [
       "<Figure size 640x480 with 1 Axes>"
      ]
     },
     "metadata": {},
     "output_type": "display_data"
    }
   ],
   "source": [
    "plt.scatter(Y_test, Y_pred, color='red', linewidth=2)\n",
    "plt.show()"
   ]
  },
  {
   "cell_type": "code",
   "execution_count": 34,
   "id": "40bf764f",
   "metadata": {},
   "outputs": [
    {
     "name": "stdout",
     "output_type": "stream",
     "text": [
      "R-squared: 0.09657676928849557\n"
     ]
    }
   ],
   "source": [
    "print('R-squared:', metrics.r2_score(Y_test, Y_pred))\n"
   ]
  },
  {
   "cell_type": "code",
   "execution_count": 35,
   "id": "89b865fc",
   "metadata": {},
   "outputs": [
    {
     "name": "stdout",
     "output_type": "stream",
     "text": [
      "Mean Absolute Error: 37415.5165843725\n",
      "Mean Squared Error: 1955461423.934547\n",
      "Root Mean Squared Error: 44220.59954291153\n",
      "R-squared: 0.09657676928849557\n"
     ]
    }
   ],
   "source": [
    "print('Mean Absolute Error:', metrics.mean_absolute_error(Y_test, Y_pred))\n",
    "print('Mean Squared Error:', metrics.mean_squared_error(Y_test, Y_pred))\n",
    "print('Root Mean Squared Error:', np.sqrt(metrics.mean_squared_error(Y_test, Y_pred)))\n",
    "print('R-squared:', metrics.r2_score(Y_test, Y_pred)) # r^2 value isnt up to par becuase of how larger the data is "
   ]
  },
  {
   "cell_type": "markdown",
   "id": "b6adcf50",
   "metadata": {},
   "source": [
    "# Decision Tree "
   ]
  },
  {
   "cell_type": "code",
   "execution_count": 36,
   "id": "8c3ae5b8",
   "metadata": {},
   "outputs": [
    {
     "data": {
      "text/html": [
       "<style>#sk-container-id-3 {color: black;}#sk-container-id-3 pre{padding: 0;}#sk-container-id-3 div.sk-toggleable {background-color: white;}#sk-container-id-3 label.sk-toggleable__label {cursor: pointer;display: block;width: 100%;margin-bottom: 0;padding: 0.3em;box-sizing: border-box;text-align: center;}#sk-container-id-3 label.sk-toggleable__label-arrow:before {content: \"▸\";float: left;margin-right: 0.25em;color: #696969;}#sk-container-id-3 label.sk-toggleable__label-arrow:hover:before {color: black;}#sk-container-id-3 div.sk-estimator:hover label.sk-toggleable__label-arrow:before {color: black;}#sk-container-id-3 div.sk-toggleable__content {max-height: 0;max-width: 0;overflow: hidden;text-align: left;background-color: #f0f8ff;}#sk-container-id-3 div.sk-toggleable__content pre {margin: 0.2em;color: black;border-radius: 0.25em;background-color: #f0f8ff;}#sk-container-id-3 input.sk-toggleable__control:checked~div.sk-toggleable__content {max-height: 200px;max-width: 100%;overflow: auto;}#sk-container-id-3 input.sk-toggleable__control:checked~label.sk-toggleable__label-arrow:before {content: \"▾\";}#sk-container-id-3 div.sk-estimator input.sk-toggleable__control:checked~label.sk-toggleable__label {background-color: #d4ebff;}#sk-container-id-3 div.sk-label input.sk-toggleable__control:checked~label.sk-toggleable__label {background-color: #d4ebff;}#sk-container-id-3 input.sk-hidden--visually {border: 0;clip: rect(1px 1px 1px 1px);clip: rect(1px, 1px, 1px, 1px);height: 1px;margin: -1px;overflow: hidden;padding: 0;position: absolute;width: 1px;}#sk-container-id-3 div.sk-estimator {font-family: monospace;background-color: #f0f8ff;border: 1px dotted black;border-radius: 0.25em;box-sizing: border-box;margin-bottom: 0.5em;}#sk-container-id-3 div.sk-estimator:hover {background-color: #d4ebff;}#sk-container-id-3 div.sk-parallel-item::after {content: \"\";width: 100%;border-bottom: 1px solid gray;flex-grow: 1;}#sk-container-id-3 div.sk-label:hover label.sk-toggleable__label {background-color: #d4ebff;}#sk-container-id-3 div.sk-serial::before {content: \"\";position: absolute;border-left: 1px solid gray;box-sizing: border-box;top: 0;bottom: 0;left: 50%;z-index: 0;}#sk-container-id-3 div.sk-serial {display: flex;flex-direction: column;align-items: center;background-color: white;padding-right: 0.2em;padding-left: 0.2em;position: relative;}#sk-container-id-3 div.sk-item {position: relative;z-index: 1;}#sk-container-id-3 div.sk-parallel {display: flex;align-items: stretch;justify-content: center;background-color: white;position: relative;}#sk-container-id-3 div.sk-item::before, #sk-container-id-3 div.sk-parallel-item::before {content: \"\";position: absolute;border-left: 1px solid gray;box-sizing: border-box;top: 0;bottom: 0;left: 50%;z-index: -1;}#sk-container-id-3 div.sk-parallel-item {display: flex;flex-direction: column;z-index: 1;position: relative;background-color: white;}#sk-container-id-3 div.sk-parallel-item:first-child::after {align-self: flex-end;width: 50%;}#sk-container-id-3 div.sk-parallel-item:last-child::after {align-self: flex-start;width: 50%;}#sk-container-id-3 div.sk-parallel-item:only-child::after {width: 0;}#sk-container-id-3 div.sk-dashed-wrapped {border: 1px dashed gray;margin: 0 0.4em 0.5em 0.4em;box-sizing: border-box;padding-bottom: 0.4em;background-color: white;}#sk-container-id-3 div.sk-label label {font-family: monospace;font-weight: bold;display: inline-block;line-height: 1.2em;}#sk-container-id-3 div.sk-label-container {text-align: center;}#sk-container-id-3 div.sk-container {/* jupyter's `normalize.less` sets `[hidden] { display: none; }` but bootstrap.min.css set `[hidden] { display: none !important; }` so we also need the `!important` here to be able to override the default hidden behavior on the sphinx rendered scikit-learn.org. See: https://github.com/scikit-learn/scikit-learn/issues/21755 */display: inline-block !important;position: relative;}#sk-container-id-3 div.sk-text-repr-fallback {display: none;}</style><div id=\"sk-container-id-3\" class=\"sk-top-container\"><div class=\"sk-text-repr-fallback\"><pre>DecisionTreeRegressor(random_state=101)</pre><b>In a Jupyter environment, please rerun this cell to show the HTML representation or trust the notebook. <br />On GitHub, the HTML representation is unable to render, please try loading this page with nbviewer.org.</b></div><div class=\"sk-container\" hidden><div class=\"sk-item\"><div class=\"sk-estimator sk-toggleable\"><input class=\"sk-toggleable__control sk-hidden--visually\" id=\"sk-estimator-id-3\" type=\"checkbox\" checked><label for=\"sk-estimator-id-3\" class=\"sk-toggleable__label sk-toggleable__label-arrow\">DecisionTreeRegressor</label><div class=\"sk-toggleable__content\"><pre>DecisionTreeRegressor(random_state=101)</pre></div></div></div></div></div>"
      ],
      "text/plain": [
       "DecisionTreeRegressor(random_state=101)"
      ]
     },
     "execution_count": 36,
     "metadata": {},
     "output_type": "execute_result"
    }
   ],
   "source": [
    "from sklearn.tree import DecisionTreeRegressor\n",
    "\n",
    "# Create and fit the DecisionTreeRegressor\n",
    "tree_model = DecisionTreeRegressor(random_state=101)\n",
    "tree_model.fit(X_train, Y_train)"
   ]
  },
  {
   "cell_type": "code",
   "execution_count": 37,
   "id": "192d950e",
   "metadata": {},
   "outputs": [],
   "source": [
    "# Predictions\n",
    "Y_pred = tree_model.predict(X_test)\n",
    "\n",
    "# Evaluate the model\n",
    "threshold = 0.5  \n",
    "predictions_binary = [1 if p >= threshold else 0 for p in predictions]\n",
    "\n",
    "# Assuming Y_test is continuous\n",
    "Y_test_categorical_Decision_Tree = [1 if y >= threshold else 0 for y in Y_test]"
   ]
  },
  {
   "cell_type": "markdown",
   "id": "25776def",
   "metadata": {},
   "source": [
    "## Decision Tree Evalulation Metrics "
   ]
  },
  {
   "cell_type": "code",
   "execution_count": 38,
   "id": "76af7008",
   "metadata": {},
   "outputs": [
    {
     "name": "stdout",
     "output_type": "stream",
     "text": [
      "              precision    recall  f1-score   support\n",
      "\n",
      "           0       0.00      0.00      0.00         7\n",
      "           1       1.00      1.00      1.00     52307\n",
      "\n",
      "    accuracy                           1.00     52314\n",
      "   macro avg       0.50      0.50      0.50     52314\n",
      "weighted avg       1.00      1.00      1.00     52314\n",
      "\n",
      "0.9998661926061857\n"
     ]
    }
   ],
   "source": [
    "print(classification_report(Y_test_categorical_Decision_Tree, predictions_binary))\n",
    "print(accuracy_score(Y_test_categorical_Decision_Tree, predictions_binary))"
   ]
  },
  {
   "cell_type": "code",
   "execution_count": 39,
   "id": "7bfe4dbf",
   "metadata": {},
   "outputs": [
    {
     "name": "stdout",
     "output_type": "stream",
     "text": [
      "Mean Absolute Error: 0.00013380739381427533\n",
      "Mean Squared Error: 0.00013380739381427533\n",
      "Root Mean Squared Error: 0.011567514591055216\n",
      "R-squared: -0.00013382530062933107\n"
     ]
    }
   ],
   "source": [
    "print('Mean Absolute Error:', metrics.mean_absolute_error(Y_test_categorical_Decision_Tree, predictions_binary))\n",
    "print('Mean Squared Error:', metrics.mean_squared_error(Y_test_categorical_Decision_Tree, predictions_binary))\n",
    "print('Root Mean Squared Error:', np.sqrt(metrics.mean_squared_error(Y_test_categorical_Decision_Tree, predictions_binary)))\n",
    "print('R-squared:', metrics.r2_score(Y_test_categorical_Decision_Tree, predictions_binary)) # r^2 value isnt up to par becuase of how larger the data is "
   ]
  },
  {
   "cell_type": "markdown",
   "id": "3241323d",
   "metadata": {},
   "source": [
    "# Random Forest "
   ]
  },
  {
   "cell_type": "code",
   "execution_count": 40,
   "id": "ef5ce855",
   "metadata": {},
   "outputs": [],
   "source": [
    "from sklearn.ensemble import RandomForestRegressor\n",
    "\n",
    "# Create and fit the Random Forest\n",
    "rmd_clf = RandomForestRegressor(random_state=101)\n",
    "rmd_clf.fit(X_train, Y_train)\n",
    "\n",
    "# Predictions\n",
    "Y_pred = rmd_clf.predict(X_test)\n",
    "\n",
    "# Evaluate the model\n",
    "threshold = 0.5  \n",
    "predictions_binary = [1 if p >= threshold else 0 for p in predictions]\n",
    "\n",
    "# Assuming Y_test is continuous\n",
    "Y_test_categorical_Randomforest = [1 if y >= threshold else 0 for y in Y_test]"
   ]
  },
  {
   "cell_type": "markdown",
   "id": "361fac1f",
   "metadata": {},
   "source": [
    "## Random Forest Evalulation Metrics "
   ]
  },
  {
   "cell_type": "code",
   "execution_count": 41,
   "id": "e28b6a51",
   "metadata": {},
   "outputs": [
    {
     "name": "stdout",
     "output_type": "stream",
     "text": [
      "              precision    recall  f1-score   support\n",
      "\n",
      "           0       0.00      0.00      0.00         7\n",
      "           1       1.00      1.00      1.00     52307\n",
      "\n",
      "    accuracy                           1.00     52314\n",
      "   macro avg       0.50      0.50      0.50     52314\n",
      "weighted avg       1.00      1.00      1.00     52314\n",
      "\n",
      "0.9998661926061857\n"
     ]
    }
   ],
   "source": [
    "print(classification_report(Y_test_categorical_Randomforest, predictions_binary))\n",
    "print(accuracy_score(Y_test_categorical_Randomforest, predictions_binary))"
   ]
  },
  {
   "cell_type": "code",
   "execution_count": 42,
   "id": "538e9a02",
   "metadata": {},
   "outputs": [
    {
     "name": "stdout",
     "output_type": "stream",
     "text": [
      "Mean Absolute Error: 0.00013380739381427533\n",
      "Mean Squared Error: 0.00013380739381427533\n",
      "Root Mean Squared Error: 0.011567514591055216\n",
      "R-squared: -0.00013382530062933107\n"
     ]
    }
   ],
   "source": [
    "print('Mean Absolute Error:', metrics.mean_absolute_error(Y_test_categorical_Randomforest, predictions_binary))\n",
    "print('Mean Squared Error:', metrics.mean_squared_error(Y_test_categorical_Randomforest, predictions_binary))\n",
    "print('Root Mean Squared Error:', np.sqrt(metrics.mean_squared_error(Y_test_categorical_Randomforest, predictions_binary)))\n",
    "print('R-squared:', metrics.r2_score(Y_test_categorical_Randomforest, predictions_binary))"
   ]
  },
  {
   "cell_type": "markdown",
   "id": "09aca905",
   "metadata": {},
   "source": [
    "# Gradient Boosting"
   ]
  },
  {
   "cell_type": "code",
   "execution_count": 43,
   "id": "e7cffa7d",
   "metadata": {},
   "outputs": [],
   "source": [
    "from sklearn.ensemble import GradientBoostingRegressor\n",
    "\n",
    "gb_clf = GradientBoostingRegressor(learning_rate=0.5, random_state=100)\n",
    "gb_clf.fit(X_train, Y_train)\n",
    "\n",
    "Y_pred = gb_clf.predict(X_test)\n",
    "\n",
    "threshold = 0.5  \n",
    "predictions_binary = [1 if p >= threshold else 0 for p in predictions]\n",
    "\n",
    "# Assuming Y_test is continuous\n",
    "Y_test_categorical_Gb = [1 if y >= threshold else 0 for y in Y_test]"
   ]
  },
  {
   "cell_type": "markdown",
   "id": "dce50ea9",
   "metadata": {},
   "source": [
    "## Gradient Boosting Evalulation Metrics"
   ]
  },
  {
   "cell_type": "code",
   "execution_count": 44,
   "id": "7a032902",
   "metadata": {},
   "outputs": [
    {
     "name": "stdout",
     "output_type": "stream",
     "text": [
      "              precision    recall  f1-score   support\n",
      "\n",
      "           0       0.00      0.00      0.00         7\n",
      "           1       1.00      1.00      1.00     52307\n",
      "\n",
      "    accuracy                           1.00     52314\n",
      "   macro avg       0.50      0.50      0.50     52314\n",
      "weighted avg       1.00      1.00      1.00     52314\n",
      "\n",
      "0.9998661926061857\n"
     ]
    }
   ],
   "source": [
    "print(classification_report(Y_test_categorical_Gb, predictions_binary))\n",
    "print(accuracy_score(Y_test_categorical_Gb, predictions_binary))"
   ]
  },
  {
   "cell_type": "code",
   "execution_count": 45,
   "id": "f8a3bfbd",
   "metadata": {},
   "outputs": [
    {
     "name": "stdout",
     "output_type": "stream",
     "text": [
      "Mean Absolute Error: 0.00013380739381427533\n",
      "Mean Squared Error: 0.00013380739381427533\n",
      "Root Mean Squared Error: 0.011567514591055216\n",
      "R-squared: -0.00013382530062933107\n"
     ]
    }
   ],
   "source": [
    "print('Mean Absolute Error:', metrics.mean_absolute_error(Y_test_categorical_Gb, predictions_binary))\n",
    "print('Mean Squared Error:', metrics.mean_squared_error(Y_test_categorical_Gb, predictions_binary))\n",
    "print('Root Mean Squared Error:', np.sqrt(metrics.mean_squared_error(Y_test_categorical_Gb, predictions_binary)))\n",
    "print('R-squared:', metrics.r2_score(Y_test_categorical_Gb, predictions_binary))"
   ]
  }
 ],
 "metadata": {
  "kernelspec": {
   "display_name": "Python 3 (ipykernel)",
   "language": "python",
   "name": "python3"
  },
  "language_info": {
   "codemirror_mode": {
    "name": "ipython",
    "version": 3
   },
   "file_extension": ".py",
   "mimetype": "text/x-python",
   "name": "python",
   "nbconvert_exporter": "python",
   "pygments_lexer": "ipython3",
   "version": "3.11.5"
  }
 },
 "nbformat": 4,
 "nbformat_minor": 5
}
